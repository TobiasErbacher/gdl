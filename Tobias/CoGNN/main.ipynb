{
 "cells": [
  {
   "cell_type": "markdown",
   "metadata": {},
   "source": [
    "# Cooperative Graph Neural Networks ([CoGNN](https://doi.org/10.48550/arXiv.2310.01267))\n",
    "\n",
    "This part was adapted by Tobias Erbacher from the [authors' github](https://github.com/benfinkelshtein/CoGNN/tree/main). We recommend to run this on a GPU service like [Google Colab](https://colab.research.google.com/)."
   ]
  },
  {
   "cell_type": "markdown",
   "metadata": {},
   "source": [
    "## Installation\n",
    "\n",
    "To ensure we are using the same modules as the authors, we need to install the following:"
   ]
  },
  {
   "cell_type": "code",
   "execution_count": null,
   "metadata": {},
   "outputs": [],
   "source": [
    "%pip install torch==2.0.0 torchvision torchaudio --index-url https://download.pytorch.org/whl/cu118\n",
    "%pip install torch_scatter torch_sparse torch_cluster torch_spline_conv -f https://data.pyg.org/whl/torch-2.0.0+cu118.html\n",
    "%pip install torch-geometric==2.3.0\n",
    "%pip install torchmetrics ogb rdkit\n",
    "%pip install matplotlib"
   ]
  },
  {
   "cell_type": "markdown",
   "metadata": {},
   "source": [
    "To execute this notebook, we will assume that the datasets are already installed. If you cloned our github repository, you will be able to find them in [this folder](https://github.com/TobiasErbacher/gdl/tree/main/replication/data). In particular, we are using:\n",
    "\n",
    "- Computers <font color='red'>(Link?)</font>\n",
    "- Photo <font color='red'>(Link?)</font>\n",
    "- [CiteSeer](https://linqs.org/datasets/) <font color='red'>(Which one?)</font>\n",
    "- CoraML <font color='red'>(Link?)</font>\n",
    "- MS-Academic <font color='red'>(Link?)</font>\n",
    "- PubMed <font color='red'>(Link?)</font>"
   ]
  },
  {
   "cell_type": "markdown",
   "metadata": {},
   "source": [
    "---"
   ]
  },
  {
   "cell_type": "markdown",
   "metadata": {},
   "source": [
    "## Initialization"
   ]
  },
  {
   "cell_type": "markdown",
   "metadata": {},
   "source": [
    "We first check whether a GPU is available and if so then set it as the default device:"
   ]
  },
  {
   "cell_type": "code",
   "execution_count": null,
   "metadata": {},
   "outputs": [],
   "source": [
    "import torch\n",
    "GPU_AVAILABLE = torch.cuda.is_available()\n",
    "\n",
    "assert GPU_AVAILABLE\n",
    "device = torch.device(\"cuda:0\")\n",
    "torch.cuda.set_device(device)"
   ]
  },
  {
   "cell_type": "markdown",
   "metadata": {},
   "source": [
    "Now we will import the libraries:"
   ]
  },
  {
   "cell_type": "code",
   "execution_count": null,
   "metadata": {},
   "outputs": [],
   "source": [
    "from argparse import ArgumentParser"
   ]
  },
  {
   "cell_type": "markdown",
   "metadata": {},
   "source": [
    "Next, we import the custom classes:"
   ]
  },
  {
   "cell_type": "code",
   "execution_count": null,
   "metadata": {},
   "outputs": [],
   "source": [
    "from helper.class_experiment import Experiment\n",
    "from helper.class_dataset import DataSet\n",
    "from helper.class_model import ModelType\n",
    "from helper.class_pool import Pool\n",
    "from helper.class_encoder import PosEncoder"
   ]
  },
  {
   "cell_type": "markdown",
   "metadata": {},
   "source": [
    "Let us set up an argument parser:"
   ]
  },
  {
   "cell_type": "code",
   "execution_count": null,
   "metadata": {},
   "outputs": [],
   "source": [
    "def parse_arguments():\n",
    "    parser = ArgumentParser()\n",
    "    parser.add_argument(\"--dataset\", dest=\"dataset\", default=DataSet.roman_empire, type=DataSet.from_string,\n",
    "                        choices=list(DataSet), required=False)\n",
    "    parser.add_argument(\"--pool\", dest=\"pool\", default=Pool.NONE, type=Pool.from_string,\n",
    "                        choices=list(Pool), required=False)\n",
    "\n",
    "    # gumbel\n",
    "    parser.add_argument(\"--learn_temp\", dest=\"learn_temp\", default=False, action='store_true', required=False)\n",
    "    parser.add_argument(\"--temp_model_type\", dest=\"temp_model_type\", default=ModelType.LIN,\n",
    "                        type=ModelType.from_string, choices=list(ModelType), required=False)\n",
    "    parser.add_argument(\"--tau0\", dest=\"tau0\", default=0.5, type=float, required=False)\n",
    "    parser.add_argument(\"--temp\", dest=\"temp\", default=0.01, type=float, required=False)\n",
    "\n",
    "    # optimization\n",
    "    parser.add_argument(\"--max_epochs\", dest=\"max_epochs\", default=3000, type=int, required=False)\n",
    "    parser.add_argument(\"--batch_size\", dest=\"batch_size\", default=32, type=int, required=False)\n",
    "    parser.add_argument(\"--lr\", dest=\"lr\", default=1e-3, type=float, required=False)\n",
    "    parser.add_argument(\"--dropout\", dest=\"dropout\", default=0.2, type=float, required=False)\n",
    "\n",
    "    # env cls parameters\n",
    "    parser.add_argument(\"--env_model_type\", dest=\"env_model_type\", default=ModelType.MEAN_GNN,\n",
    "                        type=ModelType.from_string, choices=list(ModelType), required=False)\n",
    "    parser.add_argument(\"--env_num_layers\", dest=\"env_num_layers\", default=3, type=int, required=False)\n",
    "    parser.add_argument(\"--env_dim\", dest=\"env_dim\", default=128, type=int, required=False)\n",
    "    parser.add_argument(\"--skip\", dest=\"skip\", default=False, action='store_true', required=False)\n",
    "    parser.add_argument(\"--batch_norm\", dest=\"batch_norm\", default=False, action='store_true', required=False)\n",
    "    parser.add_argument(\"--layer_norm\", dest=\"layer_norm\", default=False, action='store_true', required=False)\n",
    "    parser.add_argument(\"--dec_num_layers\", dest=\"dec_num_layers\", default=1, type=int, required=False)\n",
    "    parser.add_argument(\"--pos_enc\", dest=\"pos_enc\", default=PosEncoder.NONE,\n",
    "                        type=PosEncoder.from_string, choices=list(PosEncoder), required=False)\n",
    "\n",
    "    # policy cls parameters\n",
    "    parser.add_argument(\"--act_model_type\", dest=\"act_model_type\", default=ModelType.MEAN_GNN,\n",
    "                        type=ModelType.from_string, choices=list(ModelType), required=False)\n",
    "    parser.add_argument(\"--act_num_layers\", dest=\"act_num_layers\", default=1, type=int, required=False)\n",
    "    parser.add_argument(\"--act_dim\", dest=\"act_dim\", default=16, type=int, required=False)\n",
    "\n",
    "    # reproduce\n",
    "    parser.add_argument(\"--seed\", dest=\"seed\", type=int, default=0, required=False)\n",
    "    \n",
    "\n",
    "    # dataset dependant parameters \n",
    "    parser.add_argument(\"--fold\", dest=\"fold\", default=None, type=int, required=False)\n",
    "\n",
    "    # optimizer and scheduler\n",
    "    parser.add_argument(\"--weight_decay\", dest=\"weight_decay\", default=0, type=float, required=False)\n",
    "    ## for steplr scheduler only\n",
    "    parser.add_argument(\"--step_size\", dest=\"step_size\", default=None, type=int, required=False)\n",
    "    parser.add_argument(\"--gamma\", dest=\"gamma\", default=None, type=float, required=False)\n",
    "    ## for cosine with warmup scheduler only\n",
    "    parser.add_argument(\"--num_warmup_epochs\", dest=\"num_warmup_epochs\", default=None, type=int, required=False)\n",
    "\n",
    "    return parser.parse_args()"
   ]
  },
  {
   "cell_type": "code",
   "execution_count": null,
   "metadata": {},
   "outputs": [],
   "source": [
    "args = parse_arguments()"
   ]
  },
  {
   "cell_type": "markdown",
   "metadata": {},
   "source": [
    "---"
   ]
  },
  {
   "cell_type": "markdown",
   "metadata": {},
   "source": [
    "## Run the experiment"
   ]
  },
  {
   "cell_type": "code",
   "execution_count": null,
   "metadata": {},
   "outputs": [],
   "source": [
    "Experiment(args=args).run()"
   ]
  }
 ],
 "metadata": {
  "kernelspec": {
   "display_name": "AdvancedTopicsInMachineLearning",
   "language": "python",
   "name": "python3"
  },
  "language_info": {
   "name": "python",
   "version": "3.12.7"
  }
 },
 "nbformat": 4,
 "nbformat_minor": 2
}
